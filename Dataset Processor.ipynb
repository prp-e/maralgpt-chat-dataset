{
 "cells": [
  {
   "cell_type": "code",
   "execution_count": 1,
   "id": "7754e299",
   "metadata": {},
   "outputs": [],
   "source": [
    "import json\n",
    "import pandas as pd"
   ]
  },
  {
   "cell_type": "code",
   "execution_count": 2,
   "id": "149723de",
   "metadata": {},
   "outputs": [],
   "source": [
    "dataset = open('data.jsonl', encoding='utf-8')"
   ]
  },
  {
   "cell_type": "code",
   "execution_count": 3,
   "id": "f7f71a4e",
   "metadata": {},
   "outputs": [],
   "source": [
    "dataset = dataset.readlines()"
   ]
  },
  {
   "cell_type": "code",
   "execution_count": 4,
   "id": "3b8478a1",
   "metadata": {},
   "outputs": [
    {
     "data": {
      "text/plain": [
       "35117"
      ]
     },
     "execution_count": 4,
     "metadata": {},
     "output_type": "execute_result"
    }
   ],
   "source": [
    "len(dataset)"
   ]
  },
  {
   "cell_type": "code",
   "execution_count": 6,
   "id": "b524e1c7",
   "metadata": {},
   "outputs": [],
   "source": [
    "sample_data = json.loads(dataset[6900])"
   ]
  },
  {
   "cell_type": "code",
   "execution_count": 7,
   "id": "c6d339a4",
   "metadata": {},
   "outputs": [
    {
     "data": {
      "text/plain": [
       "{'text': '### Human: \\nدو غذا را نام ببرید که یک ماده مشترک دارند. ### Assistant: دو غذا که یک ماده مشترک دارند می توانند پیتزا مارگریتا و سالاد کاپرز باشند که هر دو شامل پنیر موزارلای تازه هستند.\\n'}"
      ]
     },
     "execution_count": 7,
     "metadata": {},
     "output_type": "execute_result"
    }
   ],
   "source": [
    "sample_data"
   ]
  },
  {
   "cell_type": "markdown",
   "id": "12e07047",
   "metadata": {},
   "source": [
    "## Sampling the data"
   ]
  },
  {
   "cell_type": "code",
   "execution_count": 14,
   "id": "ec9333cb",
   "metadata": {},
   "outputs": [],
   "source": [
    "def sampling_text(sample_data):\n",
    "    sample_text = sample_data['text']\n",
    "    sample_text = sample_text.replace(\"### Human:\", \"\")\n",
    "    sample_text = sample_text.replace(\"### Assistant:\", \"|\")\n",
    "    \n",
    "    sample_text = sample_text.split('|')\n",
    "    \n",
    "    return sample_text"
   ]
  },
  {
   "cell_type": "code",
   "execution_count": 15,
   "id": "15e8d721",
   "metadata": {},
   "outputs": [
    {
     "data": {
      "text/plain": [
       "[' \\nدو غذا را نام ببرید که یک ماده مشترک دارند. ',\n",
       " ' دو غذا که یک ماده مشترک دارند می توانند پیتزا مارگریتا و سالاد کاپرز باشند که هر دو شامل پنیر موزارلای تازه هستند.\\n']"
      ]
     },
     "execution_count": 15,
     "metadata": {},
     "output_type": "execute_result"
    }
   ],
   "source": [
    "sampling_text(sample_data)"
   ]
  },
  {
   "cell_type": "markdown",
   "id": "72794717",
   "metadata": {},
   "source": [
    "## Store sampled data in a huge list"
   ]
  },
  {
   "cell_type": "code",
   "execution_count": 36,
   "id": "f85c790a",
   "metadata": {},
   "outputs": [],
   "source": [
    "sampled_data = []"
   ]
  },
  {
   "cell_type": "code",
   "execution_count": 37,
   "id": "e473b25c",
   "metadata": {},
   "outputs": [
    {
     "name": "stderr",
     "output_type": "stream",
     "text": [
      "IOPub data rate exceeded.\n",
      "The notebook server will temporarily stop sending output\n",
      "to the client in order to avoid crashing it.\n",
      "To change this limit, set the config variable\n",
      "`--NotebookApp.iopub_data_rate_limit`.\n",
      "\n",
      "Current values:\n",
      "NotebookApp.iopub_data_rate_limit=1000000.0 (bytes/sec)\n",
      "NotebookApp.rate_limit_window=3.0 (secs)\n",
      "\n"
     ]
    }
   ],
   "source": [
    "for data in dataset:\n",
    "    data = json.loads(data)\n",
    "    sampled_data.append(sampling_text(data))\n",
    "    print(data)"
   ]
  },
  {
   "cell_type": "code",
   "execution_count": 33,
   "id": "9dcabccd",
   "metadata": {
    "scrolled": true
   },
   "outputs": [
    {
     "data": {
      "text/plain": [
       "2"
      ]
     },
     "execution_count": 33,
     "metadata": {},
     "output_type": "execute_result"
    }
   ],
   "source": [
    "len(sampled_data[25000])"
   ]
  },
  {
   "cell_type": "markdown",
   "id": "d6f2f707",
   "metadata": {},
   "source": [
    "## Creating the CSV file"
   ]
  },
  {
   "cell_type": "code",
   "execution_count": 40,
   "id": "c4469e73",
   "metadata": {},
   "outputs": [],
   "source": [
    "import csv\n",
    "\n",
    "resulting_data = open('dataset.csv', 'w', encoding='utf-8')"
   ]
  },
  {
   "cell_type": "code",
   "execution_count": null,
   "id": "928f4005",
   "metadata": {},
   "outputs": [],
   "source": []
  }
 ],
 "metadata": {
  "kernelspec": {
   "display_name": "Python 3 (ipykernel)",
   "language": "python",
   "name": "python3"
  },
  "language_info": {
   "codemirror_mode": {
    "name": "ipython",
    "version": 3
   },
   "file_extension": ".py",
   "mimetype": "text/x-python",
   "name": "python",
   "nbconvert_exporter": "python",
   "pygments_lexer": "ipython3",
   "version": "3.11.1"
  }
 },
 "nbformat": 4,
 "nbformat_minor": 5
}
