{
 "cells": [
  {
   "cell_type": "code",
   "execution_count": 1,
   "id": "d0281b8f",
   "metadata": {},
   "outputs": [],
   "source": [
    "import json"
   ]
  },
  {
   "cell_type": "code",
   "execution_count": 2,
   "id": "80217a84",
   "metadata": {},
   "outputs": [],
   "source": [
    "dataset = open('data.jsonl')"
   ]
  },
  {
   "cell_type": "code",
   "execution_count": 3,
   "id": "3e02dbb9",
   "metadata": {},
   "outputs": [],
   "source": [
    "dataset = dataset.read()"
   ]
  },
  {
   "cell_type": "code",
   "execution_count": 5,
   "id": "53df93b0",
   "metadata": {},
   "outputs": [
    {
     "data": {
      "text/plain": [
       "'{\"text\": \"### Human: سه نکته برای سالم ماندن ارائه دهید. ### Assistant: 1. رژیم غذایی متعادل و مغذی داشته باشید: مطمئن شوید که وعده های غذایی شما شامل انواع میوه ها و سبزیجات، پروتئین بدون چربی، غلات کامل و چربی های سالم است. این به بدن شما کمک می کند تا مواد مغذی ضروری را برای بهترین عملکرد خود فراهم کند و می تواند به پیشگیری از بیماری های مزمن کمک کند.2. در فعالیت بدنی منظم شرکت کنید: ورزش برای حفظ استخوان ها، ماهیچه ها و سلامت قلب و عروق قوی بسیار مهم است. حداقل 150 دقیقه ورزش هوازی متوسط یا 75 دقیقه ورزش شدید در هفته را هدف قرار دهید.3. به اندازه کافی بخوابید: داشتن خواب با کیفیت کافی برای سلامت جسمی و روانی بسیار مهم است. به تنظیم خلق و خو، بهبود عملکرد شناختی و حمایت از رشد سالم و عملکرد سیستم ایمنی کمک می کند. هر شب ۷ تا ۹ ساعت بخوابید.\\\\n\"}\\n{\"text\": \"### Human: \\\\nسه رنگ اصلی کدامند؟ ### Assistant: سه رنگ اصلی قرمز، آبی و زرد هستند. این رنگ\\u200cها را به این دلیل اصلی می\\u200cنامند که با اختلاط رنگ\\u200cهای دیگر ایجاد نمی\\u200cشوند و همه رنگ\\u200cهای دیگر را می\\u200cتوان با ترکیب آنها به نسبت\\u200cهای مختلف ساخت. '"
      ]
     },
     "execution_count": 5,
     "metadata": {},
     "output_type": "execute_result"
    }
   ],
   "source": [
    "dataset[:1000]"
   ]
  },
  {
   "cell_type": "code",
   "execution_count": 6,
   "id": "6fa99210",
   "metadata": {},
   "outputs": [],
   "source": [
    "dataset = dataset.split('\\n')"
   ]
  },
  {
   "cell_type": "code",
   "execution_count": 7,
   "id": "a239f35b",
   "metadata": {},
   "outputs": [
    {
     "data": {
      "text/plain": [
       "35118"
      ]
     },
     "execution_count": 7,
     "metadata": {},
     "output_type": "execute_result"
    }
   ],
   "source": [
    "len(dataset)"
   ]
  },
  {
   "cell_type": "markdown",
   "id": "edd63c8b",
   "metadata": {},
   "source": [
    "## Trying to make the dataset pretty standard JSON file"
   ]
  },
  {
   "cell_type": "code",
   "execution_count": 24,
   "id": "272fac8a",
   "metadata": {},
   "outputs": [],
   "source": [
    "sample_data = dataset[71]"
   ]
  },
  {
   "cell_type": "code",
   "execution_count": 25,
   "id": "760b1656",
   "metadata": {},
   "outputs": [
    {
     "data": {
      "text/plain": [
       "'{\"text\": \"### Human: \\\\nفرض کنید x و y اعداد حقیقی غیر صفر باشند. فرض کنید m و M حداقل مقدار و مقدار حداکثر باشد ### Assistant: (|x + y|)/(|x| + |y|)،\\\\nبه ترتیب. M - m را پیدا کنید.دو عدد واقعی x و y غیر صفر به ما داده می شود و از ما خواسته می شود که حداقل m و حداکثر M عبارت را پیدا کنیم:(|x + y|)/(|x| + |y|)برای یافتن حداقل، می خواهیم عبارت را تا حد امکان کوچک کنیم. از آنجایی که هر دو |x + y| و |x| + |y| غیر منفی هستند، (|x + y|)/(|x| + |y|) نیز باید غیرمنفی باشد. می توانیم x = 1 و y = -1 را برای بدست آوردن:(|x + y|)/(|x| + |y|) = (|0|)/(|1| + |-1|) = 0/2 = 0این نشان می دهد که حداقل مقدار عبارت 0 است.برای یافتن حداکثر، می\\u200cخواهیم عبارت را تا حد امکان بزرگ کنیم. با نابرابری مثلث می دانیم که:|x + y| ≤ |x| + |y|بنابراین ما داریم:(|x + y|)/(|x| + |y|) ≤ (|x| + |y|)/(|x| + |y|) = 1این نشان می دهد که حداکثر مقدار عبارت 1 است. تساوی زمانی رخ می دهد که x = y.بنابراین، دامنه عبارت [0، 1] است و تفاوت بین مقادیر حداکثر و حداقل برابر است:M - m = 1 - 0 = 1\\\\n\"}'"
      ]
     },
     "execution_count": 25,
     "metadata": {},
     "output_type": "execute_result"
    }
   ],
   "source": [
    "sample_data"
   ]
  },
  {
   "cell_type": "code",
   "execution_count": 26,
   "id": "11130952",
   "metadata": {},
   "outputs": [
    {
     "data": {
      "text/plain": [
       "{'text': '### Human: \\nفرض کنید x و y اعداد حقیقی غیر صفر باشند. فرض کنید m و M حداقل مقدار و مقدار حداکثر باشد ### Assistant: (|x + y|)/(|x| + |y|)،\\nبه ترتیب. M - m را پیدا کنید.دو عدد واقعی x و y غیر صفر به ما داده می شود و از ما خواسته می شود که حداقل m و حداکثر M عبارت را پیدا کنیم:(|x + y|)/(|x| + |y|)برای یافتن حداقل، می خواهیم عبارت را تا حد امکان کوچک کنیم. از آنجایی که هر دو |x + y| و |x| + |y| غیر منفی هستند، (|x + y|)/(|x| + |y|) نیز باید غیرمنفی باشد. می توانیم x = 1 و y = -1 را برای بدست آوردن:(|x + y|)/(|x| + |y|) = (|0|)/(|1| + |-1|) = 0/2 = 0این نشان می دهد که حداقل مقدار عبارت 0 است.برای یافتن حداکثر، می\\u200cخواهیم عبارت را تا حد امکان بزرگ کنیم. با نابرابری مثلث می دانیم که:|x + y| ≤ |x| + |y|بنابراین ما داریم:(|x + y|)/(|x| + |y|) ≤ (|x| + |y|)/(|x| + |y|) = 1این نشان می دهد که حداکثر مقدار عبارت 1 است. تساوی زمانی رخ می دهد که x = y.بنابراین، دامنه عبارت [0، 1] است و تفاوت بین مقادیر حداکثر و حداقل برابر است:M - m = 1 - 0 = 1\\n'}"
      ]
     },
     "execution_count": 26,
     "metadata": {},
     "output_type": "execute_result"
    }
   ],
   "source": [
    "sample_data = json.loads(sample_data)\n",
    "sample_data"
   ]
  },
  {
   "cell_type": "code",
   "execution_count": 27,
   "id": "91b4fd1f",
   "metadata": {},
   "outputs": [],
   "source": [
    "sample_data = sample_data['text'].replace('### Human:', '')"
   ]
  },
  {
   "cell_type": "code",
   "execution_count": 28,
   "id": "38ac1d7e",
   "metadata": {},
   "outputs": [],
   "source": [
    "sample_data = sample_data.split('### Assistant:')"
   ]
  },
  {
   "cell_type": "code",
   "execution_count": 29,
   "id": "ee384b19",
   "metadata": {},
   "outputs": [],
   "source": [
    "a = {}\n",
    "a['instruction'] = sample_data[0]\n",
    "a['response'] = sample_data[1]"
   ]
  },
  {
   "cell_type": "markdown",
   "id": "85880829",
   "metadata": {},
   "source": [
    "## Making a method to do the job"
   ]
  },
  {
   "cell_type": "code",
   "execution_count": 33,
   "id": "4e50e4ee",
   "metadata": {},
   "outputs": [],
   "source": [
    "def data_sampler(sample_data):\n",
    "    \n",
    "    sample_data = json.loads(sample_data)\n",
    "    sample_data = sample_data['text'].replace('### Human:', '')\n",
    "    sample_data = sample_data.split('### Assistant:')\n",
    "    \n",
    "    json_dic = {}\n",
    "    json_dic['instruction'] = sample_data[0]\n",
    "    json_dic['response'] = sample_data[1]\n",
    "    \n",
    "    return json_dic"
   ]
  },
  {
   "cell_type": "markdown",
   "id": "e86b2a38",
   "metadata": {},
   "source": [
    "## Working on the finalized dataset"
   ]
  },
  {
   "cell_type": "code",
   "execution_count": 34,
   "id": "aa17fb37",
   "metadata": {},
   "outputs": [],
   "source": [
    "final_set = []"
   ]
  },
  {
   "cell_type": "code",
   "execution_count": 37,
   "id": "2d945167",
   "metadata": {},
   "outputs": [],
   "source": [
    "for data in dataset:\n",
    "    try:\n",
    "        final_set.append(data_sampler(data))\n",
    "    except:\n",
    "        continue"
   ]
  },
  {
   "cell_type": "code",
   "execution_count": 41,
   "id": "1a788483",
   "metadata": {},
   "outputs": [
    {
     "data": {
      "text/plain": [
       "{'instruction': ' \\nلیستی از 10 حیوان مختلف ایجاد کنید ',\n",
       " 'response': ' 1. شیر\\n2. فیل\\n3. پاندا\\n4. زرافه\\n5. دلفین\\n6. کانگورو\\n7. ببر\\n8. گوریل\\n9. شتر\\n10. گورخر\\n'}"
      ]
     },
     "execution_count": 41,
     "metadata": {},
     "output_type": "execute_result"
    }
   ],
   "source": [
    "final_set[100]"
   ]
  },
  {
   "cell_type": "markdown",
   "id": "afdc57af",
   "metadata": {},
   "source": [
    "## Converting to JSON"
   ]
  },
  {
   "cell_type": "code",
   "execution_count": 45,
   "id": "ae6feae5",
   "metadata": {},
   "outputs": [],
   "source": [
    "final_json = open('dataset.json', 'w')"
   ]
  },
  {
   "cell_type": "code",
   "execution_count": 46,
   "id": "a7f0c04d",
   "metadata": {},
   "outputs": [],
   "source": [
    "json.dump(final_set, final_json)"
   ]
  },
  {
   "cell_type": "markdown",
   "id": "c89f031b",
   "metadata": {},
   "source": [
    "## Converting JSON to CSV"
   ]
  },
  {
   "cell_type": "code",
   "execution_count": 47,
   "id": "0487d2dd",
   "metadata": {},
   "outputs": [],
   "source": [
    "dataset_file = open('dataset.json')\n",
    "dataset = json.load(dataset_file)"
   ]
  },
  {
   "cell_type": "code",
   "execution_count": 48,
   "id": "ca616d14",
   "metadata": {},
   "outputs": [
    {
     "data": {
      "text/plain": [
       "70234"
      ]
     },
     "execution_count": 48,
     "metadata": {},
     "output_type": "execute_result"
    }
   ],
   "source": [
    "len(dataset)"
   ]
  },
  {
   "cell_type": "code",
   "execution_count": 51,
   "id": "86833a6d",
   "metadata": {},
   "outputs": [
    {
     "data": {
      "text/plain": [
       "{'instruction': ' \\nبه نقطه جوش آب نگاه کنید. ',\n",
       " 'response': ' نقطه جوش آب در فشار اتمسفر استاندارد 100 درجه سانتیگراد یا 212 درجه فارنهایت است.\\n'}"
      ]
     },
     "execution_count": 51,
     "metadata": {},
     "output_type": "execute_result"
    }
   ],
   "source": [
    "dataset[20]"
   ]
  },
  {
   "cell_type": "code",
   "execution_count": 52,
   "id": "98d110e7",
   "metadata": {},
   "outputs": [],
   "source": [
    "import csv\n",
    "\n",
    "final_data = open('final_set.csv', 'w', encoding='utf-8')"
   ]
  },
  {
   "cell_type": "code",
   "execution_count": 53,
   "id": "dc023e96",
   "metadata": {},
   "outputs": [],
   "source": [
    "csv_writer = csv.writer(final_data)"
   ]
  },
  {
   "cell_type": "code",
   "execution_count": 54,
   "id": "ad2463a0",
   "metadata": {},
   "outputs": [],
   "source": [
    "count = 0 \n",
    "\n",
    "for data in dataset:\n",
    "    if count == 0:\n",
    "        header = data.keys()\n",
    "        csv_writer.writerow(header)\n",
    "        count += 1 \n",
    "        \n",
    "    csv_writer.writerow(data.values())"
   ]
  },
  {
   "cell_type": "code",
   "execution_count": 55,
   "id": "e2fb523e",
   "metadata": {},
   "outputs": [],
   "source": [
    "final_data.close()"
   ]
  },
  {
   "cell_type": "markdown",
   "id": "ab129576",
   "metadata": {},
   "source": [
    "## Testing the CSV"
   ]
  },
  {
   "cell_type": "code",
   "execution_count": null,
   "id": "33082c76",
   "metadata": {},
   "outputs": [],
   "source": []
  }
 ],
 "metadata": {
  "kernelspec": {
   "display_name": "Python 3 (ipykernel)",
   "language": "python",
   "name": "python3"
  },
  "language_info": {
   "codemirror_mode": {
    "name": "ipython",
    "version": 3
   },
   "file_extension": ".py",
   "mimetype": "text/x-python",
   "name": "python",
   "nbconvert_exporter": "python",
   "pygments_lexer": "ipython3",
   "version": "3.11.1"
  }
 },
 "nbformat": 4,
 "nbformat_minor": 5
}
