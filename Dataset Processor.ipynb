{
 "cells": [
  {
   "cell_type": "code",
   "execution_count": 1,
   "id": "d0281b8f",
   "metadata": {},
   "outputs": [],
   "source": [
    "import json"
   ]
  },
  {
   "cell_type": "code",
   "execution_count": 2,
   "id": "80217a84",
   "metadata": {},
   "outputs": [],
   "source": [
    "dataset = open('data.jsonl')"
   ]
  },
  {
   "cell_type": "code",
   "execution_count": 3,
   "id": "3e02dbb9",
   "metadata": {},
   "outputs": [],
   "source": [
    "dataset = dataset.readlines()"
   ]
  },
  {
   "cell_type": "code",
   "execution_count": 1,
   "id": "596c1c07",
   "metadata": {},
   "outputs": [
    {
     "ename": "NameError",
     "evalue": "name 'dataset' is not defined",
     "output_type": "error",
     "traceback": [
      "\u001b[0;31m---------------------------------------------------------------------------\u001b[0m",
      "\u001b[0;31mNameError\u001b[0m                                 Traceback (most recent call last)",
      "Cell \u001b[0;32mIn[1], line 1\u001b[0m\n\u001b[0;32m----> 1\u001b[0m \u001b[38;5;28mlen\u001b[39m(\u001b[43mdataset\u001b[49m)\n",
      "\u001b[0;31mNameError\u001b[0m: name 'dataset' is not defined"
     ]
    }
   ],
   "source": [
    "len(dataset)"
   ]
  },
  {
   "cell_type": "code",
   "execution_count": 5,
   "id": "865e102c",
   "metadata": {},
   "outputs": [],
   "source": [
    "sample_data = json.loads(dataset[73])"
   ]
  },
  {
   "cell_type": "code",
   "execution_count": 6,
   "id": "d16fbee5",
   "metadata": {},
   "outputs": [
    {
     "data": {
      "text/plain": [
       "{'text': '### Human: \\nشما یک دستیار هوشمند هستید که برای کمک به معلمان دبیرستان در ارائه سوالات درک مطلب طراحی شده است.\\nبا توجه به یک متن، شما باید یک جفت پرسش و پاسخ ارائه دهید که می تواند برای آزمایش توانایی های درک مطلب دانش آموز مورد استفاده قرار گیرد.\\nوقتی به این جفت سوال/پاسخ می\\u200cرسید، باید در قالب زیر پاسخ دهید:\\n```\\n{{\\n\"سوال\": \"$YOUR_QUESTION_HERE\"،\\n\"answer\": \"$THE_ANSWER_HERE\"\\n}}\\n```\\nهمه چیز بین ``` باید json معتبر باشد.\\nلطفاً یک جفت پرسش/پاسخ در قالب JSON مشخص شده برای متن زیر ایجاد کنید:\\n ### Assistant: '}"
      ]
     },
     "execution_count": 6,
     "metadata": {},
     "output_type": "execute_result"
    }
   ],
   "source": [
    "sample_data"
   ]
  }
 ],
 "metadata": {
  "kernelspec": {
   "display_name": "Python 3 (ipykernel)",
   "language": "python",
   "name": "python3"
  },
  "language_info": {
   "codemirror_mode": {
    "name": "ipython",
    "version": 3
   },
   "file_extension": ".py",
   "mimetype": "text/x-python",
   "name": "python",
   "nbconvert_exporter": "python",
   "pygments_lexer": "ipython3",
   "version": "3.11.1"
  }
 },
 "nbformat": 4,
 "nbformat_minor": 5
}
