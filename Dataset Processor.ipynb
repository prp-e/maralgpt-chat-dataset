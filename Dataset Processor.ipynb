{
 "cells": [
  {
   "cell_type": "code",
   "execution_count": 1,
   "id": "e283ed39",
   "metadata": {},
   "outputs": [],
   "source": [
    "import json\n",
    "import pandas as pd"
   ]
  },
  {
   "cell_type": "code",
   "execution_count": 2,
   "id": "38d83f4c",
   "metadata": {},
   "outputs": [],
   "source": [
    "dataset = open('data.jsonl')"
   ]
  },
  {
   "cell_type": "code",
   "execution_count": 3,
   "id": "c0597706",
   "metadata": {},
   "outputs": [],
   "source": [
    "dataset = dataset.readlines()"
   ]
  },
  {
   "cell_type": "code",
   "execution_count": 4,
   "id": "9fa9d1e0",
   "metadata": {},
   "outputs": [
    {
     "data": {
      "text/plain": [
       "35117"
      ]
     },
     "execution_count": 4,
     "metadata": {},
     "output_type": "execute_result"
    }
   ],
   "source": [
    "len(dataset)"
   ]
  },
  {
   "cell_type": "code",
   "execution_count": 5,
   "id": "78eb094a",
   "metadata": {},
   "outputs": [],
   "source": [
    "sample_data = json.loads(dataset[73])"
   ]
  },
  {
   "cell_type": "code",
   "execution_count": 6,
   "id": "a625433f",
   "metadata": {},
   "outputs": [
    {
     "data": {
      "text/plain": [
       "{'text': '### Human: \\nشما یک دستیار هوشمند هستید که برای کمک به معلمان دبیرستان در ارائه سوالات درک مطلب طراحی شده است.\\nبا توجه به یک متن، شما باید یک جفت پرسش و پاسخ ارائه دهید که می تواند برای آزمایش توانایی های درک مطلب دانش آموز مورد استفاده قرار گیرد.\\nوقتی به این جفت سوال/پاسخ می\\u200cرسید، باید در قالب زیر پاسخ دهید:\\n```\\n{{\\n\"سوال\": \"$YOUR_QUESTION_HERE\"،\\n\"answer\": \"$THE_ANSWER_HERE\"\\n}}\\n```\\nهمه چیز بین ``` باید json معتبر باشد.\\nلطفاً یک جفت پرسش/پاسخ در قالب JSON مشخص شده برای متن زیر ایجاد کنید:\\n ### Assistant: '}"
      ]
     },
     "execution_count": 6,
     "metadata": {},
     "output_type": "execute_result"
    }
   ],
   "source": [
    "sample_data"
   ]
  },
  {
   "cell_type": "markdown",
   "id": "69fbe6a8",
   "metadata": {},
   "source": [
    "## Sampling the data"
   ]
  },
  {
   "cell_type": "code",
   "execution_count": 7,
   "id": "20692f5a",
   "metadata": {},
   "outputs": [],
   "source": [
    "def sampling_text(sample_data):\n",
    "    sample_text = sample_data['text']\n",
    "    sample_text = sample_text.replace(\"### Human:\", \"\")\n",
    "    sample_text = sample_text.replace(\"### Assistant:\", \"|\")\n",
    "    \n",
    "    sample_text = sample_text.split('|')\n",
    "    \n",
    "    sample_text[0] = sample_text[0].replace('\\n', '')\n",
    "    sample_text[1] = sample_text[1].replace('\\n', '')\n",
    "    \n",
    "    return sample_text"
   ]
  },
  {
   "cell_type": "code",
   "execution_count": 8,
   "id": "90ac12ce",
   "metadata": {},
   "outputs": [
    {
     "data": {
      "text/plain": [
       "[' شما یک دستیار هوشمند هستید که برای کمک به معلمان دبیرستان در ارائه سوالات درک مطلب طراحی شده است.با توجه به یک متن، شما باید یک جفت پرسش و پاسخ ارائه دهید که می تواند برای آزمایش توانایی های درک مطلب دانش آموز مورد استفاده قرار گیرد.وقتی به این جفت سوال/پاسخ می\\u200cرسید، باید در قالب زیر پاسخ دهید:```{{\"سوال\": \"$YOUR_QUESTION_HERE\"،\"answer\": \"$THE_ANSWER_HERE\"}}```همه چیز بین ``` باید json معتبر باشد.لطفاً یک جفت پرسش/پاسخ در قالب JSON مشخص شده برای متن زیر ایجاد کنید: ',\n",
       " ' ']"
      ]
     },
     "execution_count": 8,
     "metadata": {},
     "output_type": "execute_result"
    }
   ],
   "source": [
    "sampling_text(sample_data)"
   ]
  },
  {
   "cell_type": "markdown",
   "id": "84488390",
   "metadata": {},
   "source": [
    "## Store sampled data in a huge list"
   ]
  },
  {
   "cell_type": "code",
   "execution_count": 9,
   "id": "7de9a332",
   "metadata": {},
   "outputs": [],
   "source": [
    "sampled_data = [['instruction', 'response']]"
   ]
  },
  {
   "cell_type": "code",
   "execution_count": 10,
   "id": "dbae05f8",
   "metadata": {},
   "outputs": [
    {
     "name": "stderr",
     "output_type": "stream",
     "text": [
      "IOPub data rate exceeded.\n",
      "The notebook server will temporarily stop sending output\n",
      "to the client in order to avoid crashing it.\n",
      "To change this limit, set the config variable\n",
      "`--NotebookApp.iopub_data_rate_limit`.\n",
      "\n",
      "Current values:\n",
      "NotebookApp.iopub_data_rate_limit=1000000.0 (bytes/sec)\n",
      "NotebookApp.rate_limit_window=3.0 (secs)\n",
      "\n"
     ]
    }
   ],
   "source": [
    "for data in dataset:\n",
    "    data = json.loads(data)\n",
    "    sample = sampling_text(data)\n",
    "    if sample == [' ',' ']:\n",
    "        pass\n",
    "    else:\n",
    "        sampled_data.append(sample)\n",
    "    print(data)"
   ]
  },
  {
   "cell_type": "code",
   "execution_count": 11,
   "id": "9a08aa5c",
   "metadata": {
    "scrolled": true
   },
   "outputs": [
    {
     "data": {
      "text/plain": [
       "35118"
      ]
     },
     "execution_count": 11,
     "metadata": {},
     "output_type": "execute_result"
    }
   ],
   "source": [
    "len(sampled_data)"
   ]
  },
  {
   "cell_type": "markdown",
   "id": "995f37b9",
   "metadata": {},
   "source": [
    "## Creating the CSV file"
   ]
  },
  {
   "cell_type": "code",
   "execution_count": 15,
   "id": "dc633573",
   "metadata": {},
   "outputs": [],
   "source": [
    "df = pd.DataFrame(sampled_data)"
   ]
  },
  {
   "cell_type": "code",
   "execution_count": 16,
   "id": "5bfa3c39",
   "metadata": {},
   "outputs": [],
   "source": [
    "df.to_csv('output.csv', sep='£', index=False)"
   ]
  },
  {
   "cell_type": "markdown",
   "id": "80f4bec2",
   "metadata": {},
   "source": [
    "## testing the CSV"
   ]
  },
  {
   "cell_type": "code",
   "execution_count": 17,
   "id": "c2a1718a",
   "metadata": {},
   "outputs": [
    {
     "name": "stderr",
     "output_type": "stream",
     "text": [
      "/var/folders/25/6jb_0lsx1_x8xcdslr9ns78w0000gn/T/ipykernel_32569/1122400651.py:1: ParserWarning: Falling back to the 'python' engine because the separator encoded in utf-8 is > 1 char long, and the 'c' engine does not support such separators; you can avoid this warning by specifying engine='python'.\n",
      "  df = pd.read_csv('output.csv', delimiter='£')\n"
     ]
    }
   ],
   "source": [
    "df = pd.read_csv('output.csv', delimiter='£')"
   ]
  },
  {
   "cell_type": "code",
   "execution_count": 18,
   "id": "40805578",
   "metadata": {},
   "outputs": [
    {
     "data": {
      "text/html": [
       "<div>\n",
       "<style scoped>\n",
       "    .dataframe tbody tr th:only-of-type {\n",
       "        vertical-align: middle;\n",
       "    }\n",
       "\n",
       "    .dataframe tbody tr th {\n",
       "        vertical-align: top;\n",
       "    }\n",
       "\n",
       "    .dataframe thead th {\n",
       "        text-align: right;\n",
       "    }\n",
       "</style>\n",
       "<table border=\"1\" class=\"dataframe\">\n",
       "  <thead>\n",
       "    <tr style=\"text-align: right;\">\n",
       "      <th></th>\n",
       "      <th>0</th>\n",
       "      <th>1</th>\n",
       "      <th>2</th>\n",
       "      <th>3</th>\n",
       "      <th>4</th>\n",
       "      <th>5</th>\n",
       "      <th>6</th>\n",
       "      <th>7</th>\n",
       "      <th>8</th>\n",
       "      <th>9</th>\n",
       "      <th>...</th>\n",
       "      <th>143</th>\n",
       "      <th>144</th>\n",
       "      <th>145</th>\n",
       "      <th>146</th>\n",
       "      <th>147</th>\n",
       "      <th>148</th>\n",
       "      <th>149</th>\n",
       "      <th>150</th>\n",
       "      <th>151</th>\n",
       "      <th>152</th>\n",
       "    </tr>\n",
       "  </thead>\n",
       "  <tbody>\n",
       "    <tr>\n",
       "      <th>0</th>\n",
       "      <td>instruction</td>\n",
       "      <td>response</td>\n",
       "      <td>NaN</td>\n",
       "      <td>NaN</td>\n",
       "      <td>NaN</td>\n",
       "      <td>NaN</td>\n",
       "      <td>NaN</td>\n",
       "      <td>NaN</td>\n",
       "      <td>NaN</td>\n",
       "      <td>NaN</td>\n",
       "      <td>...</td>\n",
       "      <td>NaN</td>\n",
       "      <td>NaN</td>\n",
       "      <td>NaN</td>\n",
       "      <td>NaN</td>\n",
       "      <td>NaN</td>\n",
       "      <td>NaN</td>\n",
       "      <td>NaN</td>\n",
       "      <td>NaN</td>\n",
       "      <td>NaN</td>\n",
       "      <td>NaN</td>\n",
       "    </tr>\n",
       "    <tr>\n",
       "      <th>1</th>\n",
       "      <td>سه نکته برای سالم ماندن ارائه دهید.</td>\n",
       "      <td>1. رژیم غذایی متعادل و مغذی داشته باشید: مطمئ...</td>\n",
       "      <td>NaN</td>\n",
       "      <td>NaN</td>\n",
       "      <td>NaN</td>\n",
       "      <td>NaN</td>\n",
       "      <td>NaN</td>\n",
       "      <td>NaN</td>\n",
       "      <td>NaN</td>\n",
       "      <td>NaN</td>\n",
       "      <td>...</td>\n",
       "      <td>NaN</td>\n",
       "      <td>NaN</td>\n",
       "      <td>NaN</td>\n",
       "      <td>NaN</td>\n",
       "      <td>NaN</td>\n",
       "      <td>NaN</td>\n",
       "      <td>NaN</td>\n",
       "      <td>NaN</td>\n",
       "      <td>NaN</td>\n",
       "      <td>NaN</td>\n",
       "    </tr>\n",
       "    <tr>\n",
       "      <th>2</th>\n",
       "      <td>سه رنگ اصلی کدامند؟</td>\n",
       "      <td>سه رنگ اصلی قرمز، آبی و زرد هستند. این رنگ‌ها...</td>\n",
       "      <td>NaN</td>\n",
       "      <td>NaN</td>\n",
       "      <td>NaN</td>\n",
       "      <td>NaN</td>\n",
       "      <td>NaN</td>\n",
       "      <td>NaN</td>\n",
       "      <td>NaN</td>\n",
       "      <td>NaN</td>\n",
       "      <td>...</td>\n",
       "      <td>NaN</td>\n",
       "      <td>NaN</td>\n",
       "      <td>NaN</td>\n",
       "      <td>NaN</td>\n",
       "      <td>NaN</td>\n",
       "      <td>NaN</td>\n",
       "      <td>NaN</td>\n",
       "      <td>NaN</td>\n",
       "      <td>NaN</td>\n",
       "      <td>NaN</td>\n",
       "    </tr>\n",
       "    <tr>\n",
       "      <th>3</th>\n",
       "      <td>ساختار یک اتم را توضیح دهید.</td>\n",
       "      <td>اتم بلوک اصلی همه مواد است و از سه نوع ذره تش...</td>\n",
       "      <td>NaN</td>\n",
       "      <td>NaN</td>\n",
       "      <td>NaN</td>\n",
       "      <td>NaN</td>\n",
       "      <td>NaN</td>\n",
       "      <td>NaN</td>\n",
       "      <td>NaN</td>\n",
       "      <td>NaN</td>\n",
       "      <td>...</td>\n",
       "      <td>NaN</td>\n",
       "      <td>NaN</td>\n",
       "      <td>NaN</td>\n",
       "      <td>NaN</td>\n",
       "      <td>NaN</td>\n",
       "      <td>NaN</td>\n",
       "      <td>NaN</td>\n",
       "      <td>NaN</td>\n",
       "      <td>NaN</td>\n",
       "      <td>NaN</td>\n",
       "    </tr>\n",
       "    <tr>\n",
       "      <th>4</th>\n",
       "      <td>چگونه آلودگی هوا را کاهش دهیم؟</td>\n",
       "      <td>راه های مختلفی برای کاهش آلودگی هوا وجود دارد...</td>\n",
       "      <td>NaN</td>\n",
       "      <td>NaN</td>\n",
       "      <td>NaN</td>\n",
       "      <td>NaN</td>\n",
       "      <td>NaN</td>\n",
       "      <td>NaN</td>\n",
       "      <td>NaN</td>\n",
       "      <td>NaN</td>\n",
       "      <td>...</td>\n",
       "      <td>NaN</td>\n",
       "      <td>NaN</td>\n",
       "      <td>NaN</td>\n",
       "      <td>NaN</td>\n",
       "      <td>NaN</td>\n",
       "      <td>NaN</td>\n",
       "      <td>NaN</td>\n",
       "      <td>NaN</td>\n",
       "      <td>NaN</td>\n",
       "      <td>NaN</td>\n",
       "    </tr>\n",
       "  </tbody>\n",
       "</table>\n",
       "<p>5 rows × 153 columns</p>\n",
       "</div>"
      ],
      "text/plain": [
       "                                       0  \\\n",
       "0                            instruction   \n",
       "1   سه نکته برای سالم ماندن ارائه دهید.    \n",
       "2                   سه رنگ اصلی کدامند؟    \n",
       "3          ساختار یک اتم را توضیح دهید.    \n",
       "4        چگونه آلودگی هوا را کاهش دهیم؟    \n",
       "\n",
       "                                                   1    2    3    4    5    6  \\\n",
       "0                                           response  NaN  NaN  NaN  NaN  NaN   \n",
       "1   1. رژیم غذایی متعادل و مغذی داشته باشید: مطمئ...  NaN  NaN  NaN  NaN  NaN   \n",
       "2   سه رنگ اصلی قرمز، آبی و زرد هستند. این رنگ‌ها...  NaN  NaN  NaN  NaN  NaN   \n",
       "3   اتم بلوک اصلی همه مواد است و از سه نوع ذره تش...  NaN  NaN  NaN  NaN  NaN   \n",
       "4   راه های مختلفی برای کاهش آلودگی هوا وجود دارد...  NaN  NaN  NaN  NaN  NaN   \n",
       "\n",
       "     7    8    9  ...  143  144  145 146  147  148  149 150  151  152  \n",
       "0  NaN  NaN  NaN  ...  NaN  NaN  NaN NaN  NaN  NaN  NaN NaN  NaN  NaN  \n",
       "1  NaN  NaN  NaN  ...  NaN  NaN  NaN NaN  NaN  NaN  NaN NaN  NaN  NaN  \n",
       "2  NaN  NaN  NaN  ...  NaN  NaN  NaN NaN  NaN  NaN  NaN NaN  NaN  NaN  \n",
       "3  NaN  NaN  NaN  ...  NaN  NaN  NaN NaN  NaN  NaN  NaN NaN  NaN  NaN  \n",
       "4  NaN  NaN  NaN  ...  NaN  NaN  NaN NaN  NaN  NaN  NaN NaN  NaN  NaN  \n",
       "\n",
       "[5 rows x 153 columns]"
      ]
     },
     "execution_count": 18,
     "metadata": {},
     "output_type": "execute_result"
    }
   ],
   "source": [
    "df.head()"
   ]
  },
  {
   "cell_type": "markdown",
   "id": "1a4a6df8",
   "metadata": {},
   "source": [
    "## Cleaning the dataframe"
   ]
  },
  {
   "cell_type": "code",
   "execution_count": null,
   "id": "bd7aa051",
   "metadata": {},
   "outputs": [],
   "source": []
  }
 ],
 "metadata": {
  "kernelspec": {
   "display_name": "Python 3 (ipykernel)",
   "language": "python",
   "name": "python3"
  },
  "language_info": {
   "codemirror_mode": {
    "name": "ipython",
    "version": 3
   },
   "file_extension": ".py",
   "mimetype": "text/x-python",
   "name": "python",
   "nbconvert_exporter": "python",
   "pygments_lexer": "ipython3",
   "version": "3.11.1"
  }
 },
 "nbformat": 4,
 "nbformat_minor": 5
}
