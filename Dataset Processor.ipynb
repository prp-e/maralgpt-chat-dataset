{
 "cells": [
  {
   "cell_type": "code",
   "execution_count": 1,
   "id": "a529b9ae",
   "metadata": {},
   "outputs": [],
   "source": [
    "import json\n",
    "import pandas as pd"
   ]
  },
  {
   "cell_type": "code",
   "execution_count": 2,
   "id": "a7598308",
   "metadata": {},
   "outputs": [],
   "source": [
    "dataset = open('data.jsonl', encoding='utf-8')"
   ]
  },
  {
   "cell_type": "code",
   "execution_count": 3,
   "id": "f327cf77",
   "metadata": {},
   "outputs": [],
   "source": [
    "dataset = dataset.readlines()"
   ]
  },
  {
   "cell_type": "code",
   "execution_count": 4,
   "id": "05cf7474",
   "metadata": {},
   "outputs": [
    {
     "data": {
      "text/plain": [
       "35117"
      ]
     },
     "execution_count": 4,
     "metadata": {},
     "output_type": "execute_result"
    }
   ],
   "source": [
    "len(dataset)"
   ]
  },
  {
   "cell_type": "code",
   "execution_count": 6,
   "id": "4fd6d96d",
   "metadata": {},
   "outputs": [],
   "source": [
    "sample_data = json.loads(dataset[6900])"
   ]
  },
  {
   "cell_type": "code",
   "execution_count": 7,
   "id": "0f67a8bd",
   "metadata": {},
   "outputs": [
    {
     "data": {
      "text/plain": [
       "{'text': '### Human: \\nدو غذا را نام ببرید که یک ماده مشترک دارند. ### Assistant: دو غذا که یک ماده مشترک دارند می توانند پیتزا مارگریتا و سالاد کاپرز باشند که هر دو شامل پنیر موزارلای تازه هستند.\\n'}"
      ]
     },
     "execution_count": 7,
     "metadata": {},
     "output_type": "execute_result"
    }
   ],
   "source": [
    "sample_data"
   ]
  },
  {
   "cell_type": "code",
   "execution_count": 8,
   "id": "55a65719",
   "metadata": {},
   "outputs": [],
   "source": [
    "sample_text = sample_data['text']"
   ]
  },
  {
   "cell_type": "code",
   "execution_count": 10,
   "id": "e64933cd",
   "metadata": {},
   "outputs": [],
   "source": [
    "sample_text = sample_text.replace(\"### Human:\", \"\")\n",
    "sample_text = sample_text.replace(\"### Assistant:\", \"|\")"
   ]
  },
  {
   "cell_type": "code",
   "execution_count": 11,
   "id": "94090fd0",
   "metadata": {},
   "outputs": [
    {
     "data": {
      "text/plain": [
       "' \\nدو غذا را نام ببرید که یک ماده مشترک دارند. | دو غذا که یک ماده مشترک دارند می توانند پیتزا مارگریتا و سالاد کاپرز باشند که هر دو شامل پنیر موزارلای تازه هستند.\\n'"
      ]
     },
     "execution_count": 11,
     "metadata": {},
     "output_type": "execute_result"
    }
   ],
   "source": [
    "sample_text"
   ]
  },
  {
   "cell_type": "code",
   "execution_count": null,
   "id": "e0a42109",
   "metadata": {},
   "outputs": [],
   "source": []
  }
 ],
 "metadata": {
  "kernelspec": {
   "display_name": "Python 3 (ipykernel)",
   "language": "python",
   "name": "python3"
  },
  "language_info": {
   "codemirror_mode": {
    "name": "ipython",
    "version": 3
   },
   "file_extension": ".py",
   "mimetype": "text/x-python",
   "name": "python",
   "nbconvert_exporter": "python",
   "pygments_lexer": "ipython3",
   "version": "3.11.1"
  }
 },
 "nbformat": 4,
 "nbformat_minor": 5
}
