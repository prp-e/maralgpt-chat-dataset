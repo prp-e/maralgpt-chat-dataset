{
 "cells": [
  {
   "cell_type": "code",
   "execution_count": 1,
   "id": "c9fe3416",
   "metadata": {},
   "outputs": [],
   "source": [
    "import json\n",
    "import pandas as pd"
   ]
  },
  {
   "cell_type": "code",
   "execution_count": 2,
   "id": "fb60674e",
   "metadata": {},
   "outputs": [],
   "source": [
    "dataset = open('data.jsonl', encoding='utf-8')"
   ]
  },
  {
   "cell_type": "code",
   "execution_count": 3,
   "id": "c7cefd16",
   "metadata": {},
   "outputs": [],
   "source": [
    "dataset = dataset.readlines()"
   ]
  },
  {
   "cell_type": "code",
   "execution_count": 4,
   "id": "fdae1661",
   "metadata": {},
   "outputs": [
    {
     "data": {
      "text/plain": [
       "35117"
      ]
     },
     "execution_count": 4,
     "metadata": {},
     "output_type": "execute_result"
    }
   ],
   "source": [
    "len(dataset)"
   ]
  },
  {
   "cell_type": "code",
   "execution_count": 6,
   "id": "0fb86163",
   "metadata": {},
   "outputs": [],
   "source": [
    "sample_data = json.loads(dataset[6900])"
   ]
  },
  {
   "cell_type": "code",
   "execution_count": null,
   "id": "330f47ec",
   "metadata": {},
   "outputs": [],
   "source": []
  }
 ],
 "metadata": {
  "kernelspec": {
   "display_name": "Python 3 (ipykernel)",
   "language": "python",
   "name": "python3"
  },
  "language_info": {
   "codemirror_mode": {
    "name": "ipython",
    "version": 3
   },
   "file_extension": ".py",
   "mimetype": "text/x-python",
   "name": "python",
   "nbconvert_exporter": "python",
   "pygments_lexer": "ipython3",
   "version": "3.11.1"
  }
 },
 "nbformat": 4,
 "nbformat_minor": 5
}
